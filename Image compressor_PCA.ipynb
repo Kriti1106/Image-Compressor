{
 "cells": [
  {
   "cell_type": "code",
   "execution_count": null,
   "metadata": {},
   "outputs": [],
   "source": [
    "#To make an image compressor using PCA\n",
    "#To import and read an image\n",
    "import numpy as np\n",
    "from matplotlib.image import imread\n",
    "import matplotlib.pyplot as plt\n",
    "\n",
    "image_raw = imread(\"anpage.1.jpg\")\n",
    "print(image_raw.shape)\n",
    "\n",
    "# Displaying the image\n",
    "plt.figure(figsize=[12,8])\n",
    "plt.imshow(image_raw)"
   ]
  },
  {
   "cell_type": "code",
   "execution_count": null,
   "metadata": {},
   "outputs": [],
   "source": [
    "#To convert RGB image to Grayscale image\n",
    "image_sum = image_raw.sum(axis=2)\n",
    "print(image_sum.shape)\n",
    "\n",
    "image_bw = image_sum/image_sum.max()\n",
    "print(image_bw.max())\n",
    "\n",
    "plt.figure(figsize=[12,8])\n",
    "plt.imshow(image_bw, cmap=plt.cm.gray)"
   ]
  },
  {
   "cell_type": "code",
   "execution_count": null,
   "metadata": {},
   "outputs": [],
   "source": [
    "#Performing PCA on the image\n",
    "from sklearn.decomposition import PCA, IncrementalPCA\n",
    "pca = PCA()\n",
    "pca.fit(image_bw)\n",
    "\n",
    "# Getting the cumulative variance\n",
    "\n",
    "var_cumu = np.cumsum(pca.explained_variance_ratio_)*100\n",
    "\n",
    "# How many PCs explain 95% of the variance?\n",
    "k = np.argmax(var_cumu>95)\n",
    "print(\"Number of components explaining 95% variance: \"+ str(k))\n",
    "#print(\"\\n\")\n",
    "\n",
    "plt.figure(figsize=[10,5])\n",
    "plt.title('Cumulative Explained Variance explained by the components')\n",
    "plt.ylabel('Cumulative Explained variance')\n",
    "plt.xlabel('Principal components')\n",
    "plt.axvline(x=k, color=\"k\", linestyle=\"--\")\n",
    "plt.axhline(y=95, color=\"r\", linestyle=\"--\")\n",
    "ax = plt.plot(var_cumu)"
   ]
  },
  {
   "cell_type": "code",
   "execution_count": null,
   "metadata": {},
   "outputs": [],
   "source": [
    "ipca = IncrementalPCA(n_components=k)\n",
    "image_recon = ipca.inverse_transform(ipca.fit_transform(image_bw))\n",
    "\n",
    "# Plotting the reconstructed image\n",
    "plt.figure(figsize=[12,8])\n",
    "plt.imshow(image_recon,cmap = plt.cm.gray)"
   ]
  },
  {
   "cell_type": "code",
   "execution_count": null,
   "metadata": {},
   "outputs": [],
   "source": [
    "# Function to reconstruct and plot image for a given number of components\n",
    "\n",
    "def plot_at_k(k):\n",
    "    ipca = IncrementalPCA(n_components=k)\n",
    "    image_recon = ipca.inverse_transform(ipca.fit_transform(image_bw))\n",
    "    plt.imshow(image_recon,cmap = plt.cm.gray)\n",
    "    \n",
    "\n",
    "k = 150\n",
    "plt.figure(figsize=[12,8])\n",
    "plot_at_k(100)"
   ]
  },
  {
   "cell_type": "code",
   "execution_count": null,
   "metadata": {},
   "outputs": [],
   "source": [
    "#Reconstructing for different values of k\n",
    "ks = [10, 25, 50, 100, 150, 250]\n",
    "\n",
    "plt.figure(figsize=[15,9])\n",
    "\n",
    "for i in range(6):\n",
    "    plt.subplot(2,3,i+1)\n",
    "    plot_at_k(ks[i])\n",
    "    plt.title(\"Components: \"+str(ks[i]))\n",
    "\n",
    "plt.subplots_adjust(wspace=0.2, hspace=0.0)\n",
    "plt.show()\n"
   ]
  }
 ],
 "metadata": {
  "language_info": {
   "name": "python"
  },
  "orig_nbformat": 4
 },
 "nbformat": 4,
 "nbformat_minor": 2
}
