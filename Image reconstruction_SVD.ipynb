{
  "cells": [
    {
      "cell_type": "code",
      "execution_count": null,
      "metadata": {
        "colab": {
          "base_uri": "https://localhost:8080/"
        },
        "id": "GwkNkhSZM3qV",
        "outputId": "4d9b1217-7821-41ff-8420-ae3cd72004e7"
      },
      "outputs": [],
      "source": [
        "#To reconstruct an image which has Gussian noise using Singular Value Decomposition\n",
        "#Image used is anpage.1.jpg from the female folder\n",
        "import cv2\n",
        "import numpy as np\n",
        "import matplotlib.pyplot as plt\n",
        " \n",
        "img = cv2.imread(\"anpage.1.jpg\")\n",
        " \n",
        "gray_image = cv2.cvtColor(img, cv2.COLOR_BGR2GRAY)#converting RGB image to grayscale image\n",
        "mean = 7.0\n",
        "stdev = 5.0 #stdev stands for standard deviation   \n",
        "gray_image = gray_image + np.random.normal(mean, std, gray_image.shape)#adding Gaussian noise to grayscale image\n",
        " \n",
        "u, s, v = np.linalg.svd(gray_image, full_matrices=False)\n",
        " \n",
        "print(f'u.shape:{u.shape},s.shape:{s.shape},v.shape:{v.shape}')"
      ]
    },
    {
      "cell_type": "code",
      "execution_count": null,
      "metadata": {
        "colab": {
          "base_uri": "https://localhost:8080/",
          "height": 384
        },
        "id": "kFcsTKjyM3qd",
        "outputId": "347df0cc-04cd-4f4d-d133-673758b3377f"
      },
      "outputs": [],
      "source": [
        "\n",
        "import seaborn as sns\n",
        " \n",
        "var_explained = np.round(s**2/np.sum(s**2), decimals=6)\n",
        " \n",
        "print(f'variance Explained by Top 20 singular values:\\n{var_explained[0:20]}')\n",
        " \n",
        "sns.barplot(x=list(range(1, 21)),\n",
        "            y=var_explained[0:20], color=\"dodgerblue\")\n",
        "#this plot is for different values of k \n",
        "plt.title('Variance Explained Graph')\n",
        "plt.xlabel('Singular Vector', fontsize=16)\n",
        "plt.ylabel('Variance Explained', fontsize=16)\n",
        "plt.tight_layout()\n",
        "plt.show()"
      ]
    },
    {
      "cell_type": "code",
      "execution_count": null,
      "metadata": {
        "colab": {
          "base_uri": "https://localhost:8080/",
          "height": 390
        },
        "id": "FyMk_vnBM3qf",
        "outputId": "7249a497-3e0e-4ea3-c8ae-34b020b939e7"
      },
      "outputs": [],
      "source": [
        "\n",
        "comps = [ 1, 5, 10, 15, 20]\n",
        "plt.figure(figsize=(12, 6))\n",
        " \n",
        "for i in range(len(comps)):\n",
        "    low_rank = u[:, :comps[i]] @ np.diag(s[:comps[i]]) @ v[:comps[i], :]\n",
        "     \n",
        "    if(i == 0):\n",
        "        plt.subplot(2, 3, i+1),\n",
        "        plt.imshow(low_rank, cmap='gray'),\n",
        "        plt.title(f'Actual Image with n_components = {comps[i]}')\n",
        "     \n",
        "    else:\n",
        "        plt.subplot(2, 3, i+1),\n",
        "        plt.imshow(low_rank, cmap='gray'),\n",
        "        plt.title(f'n_components = {comps[i]}')"
      ]
    },
    {
      "cell_type": "code",
      "execution_count": null,
      "metadata": {
        "colab": {
          "base_uri": "https://localhost:8080/"
        },
        "id": "xuDzHfb0M3qh",
        "outputId": "275ba447-0eef-4a60-82bb-b2398bfbf5b1"
      },
      "outputs": [],
      "source": [
        "# import module\n",
        "#import requests\n",
        "import cv2\n",
        "import numpy as np\n",
        "import matplotlib.pyplot as plt\n",
        " \n",
        "img = cv2.imread(\"anpage.1.jpg\")\n",
        " \n",
        "gray_image = cv2.cvtColor(img, cv2.COLOR_BGR2GRAY)\n",
        "low = 0   # some constant\n",
        "high = 1    # some constant (standard deviation)\n",
        "gray_image = gray_image + np.random.uniform(low, high, gray_image.shape)\n",
        " \n",
        "u, s, v = np.linalg.svd(gray_image, full_matrices=False)\n",
        " \n",
        "print(f'u.shape:{u.shape},s.shape:{s.shape},v.shape:{v.shape}')"
      ]
    },
    {
      "cell_type": "code",
      "execution_count": null,
      "metadata": {
        "colab": {
          "base_uri": "https://localhost:8080/",
          "height": 384
        },
        "id": "8iP8YeaaM3qj",
        "outputId": "d8c255b4-cb46-4eeb-81fd-7585b88a26cb"
      },
      "outputs": [],
      "source": [
        "\n",
        "import seaborn as sns\n",
        " \n",
        "var_explained = np.round(s**2/np.sum(s**2), decimals=6)\n",
        " \n",
        "print(f'variance Explained by Top 20 singular values:\\n{var_explained[0:20]}')\n",
        " \n",
        "sns.barplot(x=list(range(1, 21)),\n",
        "            y=var_explained[0:20], color=\"dodgerblue\")\n",
        " \n",
        "plt.title('Variance Explained Graph')\n",
        "plt.xlabel('Singular Vector', fontsize=16)\n",
        "plt.ylabel('Variance Explained', fontsize=16)\n",
        "plt.tight_layout()\n",
        "plt.show()"
      ]
    },
    {
      "cell_type": "code",
      "execution_count": null,
      "metadata": {
        "colab": {
          "base_uri": "https://localhost:8080/",
          "height": 390
        },
        "id": "McklFvFiM3qk",
        "outputId": "87c718be-d189-4a8a-9260-7e5797c8b37b"
      },
      "outputs": [],
      "source": [
        "\n",
        "comps = [ 2, 3, 9,20]\n",
        "plt.figure(figsize=(12, 6))\n",
        " \n",
        "for i in range(len(comps)):\n",
        "    low_rank = u[:, :comps[i]] @ np.diag(s[:comps[i]]) @ v[:comps[i], :]\n",
        "     \n",
        "    if(i == 0):\n",
        "        plt.subplot(2, 3, i+1),\n",
        "        plt.imshow(low_rank, cmap='gray'),\n",
        "        plt.title(f'Actual Image with n_components = {comps[i]}')\n",
        "     \n",
        "    else:\n",
        "        plt.subplot(2, 3, i+1),\n",
        "        plt.imshow(low_rank, cmap='gray'),\n",
        "        plt.title(f'n_components = {comps[i]}')"
      ]
    },
    {
      "cell_type": "code",
      "execution_count": null,
      "metadata": {
        "colab": {
          "base_uri": "https://localhost:8080/",
          "height": 160
        },
        "id": "-vG0C6lPM3qm",
        "outputId": "26072a40-a74c-4369-dc64-cba7dde880d8"
      },
      "outputs": [],
      "source": [
        "#To reconstruct image using Discrete Fourier Transformation\n",
        "import cv2\n",
        "import numpy as np\n",
        "from matplotlib import pyplot as plt\n",
        "\n",
        "img = cv2.imread('anpage.1.jpg',0)\n",
        "mean = 2.0   # some constant\n",
        "std = 0.5    # some constant (standard deviation)\n",
        "img = img + np.random.normal(mean, std, img.shape)#adding Gaussian noise\n",
        "\n",
        "\n",
        "f = np.fft.fft2(img)\n",
        "\n",
        "\n",
        "fshift = np.fft.fftshift(f)\n",
        "\n",
        "rows, cols = img.shape\n",
        "crow,ccol = rows/2 , cols/2\n",
        "\n",
        "\n",
        "fshift[int(crow-30):int(crow+30), int(ccol-30):int(ccol+30)] = 0\n",
        "\n",
        "\n",
        "f_ishift = np.fft.ifftshift(fshift)\n",
        "\n",
        " \n",
        "img_back = np.fft.ifft2(f_ishift)\n",
        "\n",
        "img_back = np.abs(img_back)\n",
        "\n",
        "plt.subplot(131),plt.imshow(img, cmap = 'gray')\n",
        "plt.title('Input Image'), plt.xticks([]), plt.yticks([])\n",
        "plt.subplot(132),plt.imshow(img_back, cmap = 'gray')\n",
        "plt.title('Image after HPF'), plt.xticks([]), plt.yticks([])\n",
        "plt.subplot(133),plt.imshow(img_back)\n",
        "plt.title('Final Result'), plt.xticks([]), plt.yticks([])\n",
        "\n",
        "plt.show()"
      ]
    },
    {
      "cell_type": "code",
      "execution_count": null,
      "metadata": {
        "colab": {
          "base_uri": "https://localhost:8080/",
          "height": 589
        },
        "id": "lGryoFgAM3qo",
        "outputId": "68e71830-07e8-4119-84e0-ef0ff1ae8cf6"
      },
      "outputs": [],
      "source": [
        "import cv2\n",
        "import numpy as np\n",
        "from matplotlib import pyplot as plt\n",
        "\n",
        "img = cv2.imread('anpage.jpg',0)\n",
        "low = 1   # some constant\n",
        "high = 10    # some constant (standard deviation)\n",
        "img = img + np.random.uniform(low, high, img.shape)\n",
        "\n",
        "\n",
        "f = np.fft.fft2(img)\n",
        "\n",
        "\n",
        "fshift = np.fft.fftshift(f)\n",
        "\n",
        "rows, cols = img.shape\n",
        "crow,ccol = rows/2 , cols/2\n",
        "\n",
        "\n",
        "k=[1,10,40,100]\n",
        "for r in k:\n",
        "    \n",
        "    fshift[int(crow-r):int(crow+r), int(ccol-r):int(ccol+r)] = 0\n",
        "\n",
        "\n",
        "    f_ishift = np.fft.ifftshift(fshift)\n",
        "\n",
        "\n",
        "    img_back = np.fft.ifft2(f_ishift)\n",
        "\n",
        "    img_back = np.abs(img_back)\n",
        "\n",
        "    plt.subplot(131),plt.imshow(img, cmap = 'gray')\n",
        "    plt.title('Input Image'), plt.xticks([]), plt.yticks([])\n",
        "    plt.subplot(132),plt.imshow(img_back, cmap = 'gray')\n",
        "    plt.title('Image after HPF'), plt.xticks([]), plt.yticks([])\n",
        "    plt.subplot(133),plt.imshow(img_back)\n",
        "    plt.title('Final Result'), plt.xticks([]), plt.yticks([])\n",
        "\n",
        "    plt.show()"
      ]
    },
    {
      "cell_type": "code",
      "execution_count": null,
      "metadata": {
        "id": "u1dN5YrWM3qp"
      },
      "outputs": [],
      "source": []
    }
  ],
  "metadata": {
    "colab": {
      "name": "reconstructSVD (1).ipynb",
      "provenance": []
    },
    "kernelspec": {
      "display_name": "Python 3",
      "language": "python",
      "name": "python3"
    },
    "language_info": {
      "codemirror_mode": {
        "name": "ipython",
        "version": 3
      },
      "file_extension": ".py",
      "mimetype": "text/x-python",
      "name": "python",
      "nbconvert_exporter": "python",
      "pygments_lexer": "ipython3",
      "version": "3.8.5"
    }
  },
  "nbformat": 4,
  "nbformat_minor": 0
}
